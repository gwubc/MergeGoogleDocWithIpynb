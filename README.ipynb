{
 "cells": [
  {
   "cell_type": "markdown",
   "id": "269cce74",
   "metadata": {},
   "source": [
    "Google Doc + Jupyter (Code only) = Jupyter with Doc\n",
    "==================================================="
   ]
  },
  {
   "cell_type": "markdown",
   "id": "b542f4c2",
   "metadata": {},
   "source": [
    "This is a demo for [MergeGoogleDocWithIpynb](https://www.google.com/url?q=https://github.com/gwubc/MergeGoogleDocWithIpynb&sa=D&source=editors&ust=1669270659336950&usg=AOvVaw0Xc7RxfHRMRNwp46cI0Ku5)"
   ]
  },
  {
   "cell_type": "markdown",
   "id": "d8f0fd5c",
   "metadata": {},
   "source": [
    "Introduction\n",
    "============"
   ]
  },
  {
   "cell_type": "markdown",
   "id": "ca5a4942",
   "metadata": {},
   "source": [
    "Dependency\n",
    "==========\n",
    "\n",
    "This project depend on"
   ]
  },
  {
   "attachments": {
    "id": {
     "id": [
      "1_1",
      "_1"
     ]
    }
   },
   "cell_type": "code",
   "execution_count": null,
   "id": "d3ea5e08",
   "metadata": {},
   "outputs": [],
   "source": [
    "import nbformat\n",
    "import markdownify\n",
    "import requests"
   ]
  },
  {
   "cell_type": "markdown",
   "id": "de078d7d",
   "metadata": {},
   "source": [
    "Example:\n",
    "========\n",
    "\n",
    "Merge a google doc with Jupyter (Code only)\n",
    "\n",
    "Link to doc: [link](https://www.google.com/url?q=https://docs.google.com/document/d/1HOZvyLZb4mEU5tCygu9d6kx5vT4hsdRgrgWRWyu2B1c/edit?usp%3Dsharing&sa=D&source=editors&ust=1669270659338212&usg=AOvVaw0WUnySmd3losw4xCTU6e5T)\n",
    "\n",
    "Link to Jupyter: [link](https://www.google.com/url?q=https://github.com/gwubc/MergeGoogleDocWithIpynb/blob/master/code_for_readme.ipynb&sa=D&source=editors&ust=1669270659338494&usg=AOvVaw3srpEqBcSIc5Xo_gQz9piC)\n",
    "\n",
    "The resulting notebook is the .ipynb file you are reading right now.\n",
    "\n",
    "Here is the code to generate this notebook:"
   ]
  },
  {
   "attachments": {
    "id": {
     "id": [
      "2_0",
      "_0"
     ]
    }
   },
   "cell_type": "code",
   "execution_count": null,
   "id": "cd04a39f",
   "metadata": {},
   "outputs": [],
   "source": [
    "\n",
    "from MergeGoogleDocWithIpynb.GenerateIpynb import GenerateIpynb\n",
    "from MergeGoogleDocWithIpynb.CodeResourceContainer import CodeResourceContainer\n",
    "from MergeGoogleDocWithIpynb.MdResourceContainer import MdResourceContainer\n",
    "\n",
    "\n",
    "googelDocUrl = 'https://docs.google.com/document/d/1HOZvyLZb4mEU5tCygu9d6kx5vT4hsdRgrgWRWyu2B1c/edit?usp=sharing'\n",
    "githubRawLinkForCode = \"https://raw.githubusercontent.com/gwubc/MergeGoogleDocWithIpynb/master/code_for_readme.ipynb\"\n",
    "outPath = \"./README.ipynb\"\n",
    "\n",
    "mdResourceContainer = MdResourceContainer()\n",
    "mdResourceContainer.addFromGoogleDocLink(googelDocUrl)\n",
    "\n",
    "codeResourceContainer = CodeResourceContainer()\n",
    "codeResourceContainer.codeBlockRemoveCellId = True\n",
    "codeResourceContainer.addFromGithubRawLink(githubRawLinkForCode)\n",
    "\n",
    "d = GenerateIpynb(mdResourceContainer, codeResourceContainer)\n",
    "\n",
    "out = d.generate(outPath)"
   ]
  },
  {
   "cell_type": "markdown",
   "id": "a3f68d87",
   "metadata": {},
   "source": []
  },
  {
   "cell_type": "markdown",
   "id": "5cbe34f8",
   "metadata": {},
   "source": [
    "How to install:\n",
    "===============\n",
    "\n",
    "`pip install`"
   ]
  },
  {
   "cell_type": "markdown",
   "id": "84fcd6b0",
   "metadata": {},
   "source": [
    "More Examples:\n",
    "==============\n",
    "\n",
    "1. Read local html doc:"
   ]
  },
  {
   "attachments": {
    "id": {
     "id": [
      "3_1",
      "_1"
     ]
    }
   },
   "cell_type": "code",
   "execution_count": null,
   "id": "fcb81fb0",
   "metadata": {},
   "outputs": [],
   "source": [
    "mdResourceContainer = MdResourceContainer()\n",
    "mdResourceContainer.addFromLocalHtml(\"path/to/html\")"
   ]
  },
  {
   "cell_type": "markdown",
   "id": "a6f60378",
   "metadata": {},
   "source": [
    "2. Read local ipynb (Code only)"
   ]
  },
  {
   "attachments": {
    "id": {
     "id": [
      "3_2",
      "_2"
     ]
    }
   },
   "cell_type": "code",
   "execution_count": null,
   "id": "c595c149",
   "metadata": {},
   "outputs": [],
   "source": [
    "codeResourceContainer = CodeResourceContainer()\n",
    "codeResourceContainer.addCodeFromJupyterPath(\"path/to/notebook.ipynb\")"
   ]
  },
  {
   "cell_type": "markdown",
   "id": "2f2dee21",
   "metadata": {},
   "source": [
    "3. Read ipynb (Code only) from github."
   ]
  },
  {
   "attachments": {
    "id": {
     "id": [
      "3_3",
      "_3"
     ]
    }
   },
   "cell_type": "code",
   "execution_count": null,
   "id": "a333f3ea",
   "metadata": {},
   "outputs": [],
   "source": [
    "codeResourceContainer = CodeResourceContainer()\n",
    "codeResourceContainer.addFromGithubRawLink(\"githubRawLinkForCodeIpynbFile\")"
   ]
  },
  {
   "cell_type": "markdown",
   "id": "243d2d00",
   "metadata": {},
   "source": [
    "4. Read multiple doc files."
   ]
  },
  {
   "attachments": {
    "id": {
     "id": [
      "3_4",
      "_4"
     ]
    }
   },
   "cell_type": "code",
   "execution_count": null,
   "id": "b9c295a4",
   "metadata": {},
   "outputs": [],
   "source": [
    "mdResource = MdResourceContainer()\n",
    "mdResource.addMdText(\"##some md text\")\n",
    "mdResource.addFromGithubRawMd(\"##some md text\")"
   ]
  },
  {
   "cell_type": "markdown",
   "id": "e2a591bd",
   "metadata": {},
   "source": [
    "5. Read multiple code files, the files must be nbformat v4. If code cell id is duplicate, later code cell will overwrite previous one."
   ]
  },
  {
   "attachments": {
    "id": {
     "id": [
      "3_5",
      "_5"
     ]
    }
   },
   "cell_type": "code",
   "execution_count": null,
   "id": "9d082377",
   "metadata": {},
   "outputs": [],
   "source": [
    "codeResourceContainer = CodeResourceContainer()\n",
    "codeResourceContainer.addFromLocalJupyterPath(\"path\")\n",
    "codeResourceContainer.addFromGithubRawLink(\"githubRawLinkForCodeIpynbFile\")\n"
   ]
  },
  {
   "cell_type": "markdown",
   "id": "776521f1",
   "metadata": {},
   "source": []
  },
  {
   "cell_type": "markdown",
   "id": "e3eb06aa",
   "metadata": {},
   "source": [
    "Advantage:\n",
    "==========\n",
    "\n",
    "Reasons why use google doc + Jupyter code, instead have everything in one Jupyter notebook ?\n",
    "\n",
    "1. Google doc is good at team edit and spelling check, but not able to run code, Jupyter is good at interactive coding, but cannot edit with other team members. Although git/github can enable team work, git is not friendly to non-coders and merge conflicts are hard to solve for beginners. With the help of this project, writers can edit the google doc at same time, while coder who good at git can manage the code bank and easily merge the code into doc after both team done"
   ]
  },
  {
   "cell_type": "markdown",
   "id": "0f117537",
   "metadata": {},
   "source": [
    "Disadvantage:\n",
    "=============\n",
    "\n",
    "Not all text styles in the google doc will be preserved in the final notebook.\n",
    "\n",
    "I use google API to convert google doc to html and then use `markdownify` to convert it to markdown, some text styles will be lost during the conversion."
   ]
  },
  {
   "cell_type": "markdown",
   "id": "71b420f0",
   "metadata": {},
   "source": [
    "Note:\n",
    "=====\n",
    "\n",
    "Only public github raw files and google doc can be read directly. For a private file, you need to download google doc as html and read local html."
   ]
  },
  {
   "cell_type": "markdown",
   "id": "9823e020",
   "metadata": {},
   "source": [
    "How to use:\n",
    "===========\n",
    "\n",
    "1. Create a google doc or any doc that can be exported to html or md. The annotation is similar to Jinja but more friendly to non-coder\n",
    "\n",
    "`{# this is a comment #}`\n",
    "\n",
    "`{%%}` or `{% newtextblock %}` will create new text cell\n",
    "\n",
    "`{{ code 1.1.1}}` will substitute a code block with id `1.1.1`. If the code block cannot be found, `# Code Not Found` will be there.\n",
    "\n",
    "2. Creating an ipynb will code only.\n",
    "\n",
    "        The first line of code will need to be `# code 1.1.1`. This code block will substitute `{{ code 1.1.1}}` in doc. \n",
    "\n",
    "        If you want to remove this line in final notebook, `codeResourceContainer.codeBlockRemoveCellId = True`"
   ]
  }
 ],
 "metadata": {},
 "nbformat": 4,
 "nbformat_minor": 5
}
