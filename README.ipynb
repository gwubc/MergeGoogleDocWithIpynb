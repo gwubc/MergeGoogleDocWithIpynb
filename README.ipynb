{
 "cells": [
  {
   "cell_type": "markdown",
   "id": "5f541832",
   "metadata": {},
   "source": [
    "Google Doc + Jupyter (Code only) = Jupyter with Doc\n",
    "==================================================="
   ]
  },
  {
   "cell_type": "markdown",
   "id": "47eaaacb",
   "metadata": {},
   "source": [
    "This is a demo for [MergeGoogleDocWithIpynb](https://www.google.com/url?q=https://github.com/gwubc/MergeGoogleDocWithIpynb&sa=D&source=editors&ust=1669505867698365&usg=AOvVaw0Vzg3Fg4FbgoihCnQjsOAr)"
   ]
  },
  {
   "cell_type": "markdown",
   "id": "3a220b17",
   "metadata": {},
   "source": [
    "Introduction\n",
    "============"
   ]
  },
  {
   "cell_type": "markdown",
   "id": "5d73ac2c",
   "metadata": {},
   "source": [
    "Dependency\n",
    "==========\n",
    "\n",
    "This project depend on following external library"
   ]
  },
  {
   "attachments": {
    "id": {
     "id": "1_1"
    }
   },
   "cell_type": "code",
   "execution_count": null,
   "id": "4626c63b",
   "metadata": {},
   "outputs": [],
   "source": [
    "import nbformat\n",
    "import markdownify\n",
    "import requests"
   ]
  },
  {
   "cell_type": "markdown",
   "id": "6f451f52",
   "metadata": {},
   "source": [
    "Example:\n",
    "========\n",
    "\n",
    "Merge a google doc with Jupyter (Code only)\n",
    "\n",
    "Link to doc: [link](https://www.google.com/url?q=https://docs.google.com/document/d/1HOZvyLZb4mEU5tCygu9d6kx5vT4hsdRgrgWRWyu2B1c/edit?usp%3Dsharing&sa=D&source=editors&ust=1669505867699986&usg=AOvVaw1vhEznP9QKTqPDaRYPWBvp)\n",
    "\n",
    "Link to Jupyter Notebook: [link](https://www.google.com/url?q=https://github.com/gwubc/MergeGoogleDocWithIpynb/blob/master/code_for_readme.ipynb&sa=D&source=editors&ust=1669505867700348&usg=AOvVaw05KI3x5dIwSDGzm_N6LxUr)\n",
    "\n",
    "The resulting notebook is the .ipynb file you are reading right now.\n",
    "\n",
    "Here is the code to generate this notebook:"
   ]
  },
  {
   "attachments": {
    "id": {
     "id": "2_0"
    }
   },
   "cell_type": "code",
   "execution_count": null,
   "id": "f8d8f57f",
   "metadata": {},
   "outputs": [],
   "source": [
    "from MergeGoogleDocWithIpynb.MergeToIpynb import MergeToIpynb\n",
    "from MergeGoogleDocWithIpynb.ResourceCollector import ResourceCollector\n",
    "from MergeGoogleDocWithIpynb.Types import ResourceType\n",
    "\n",
    "googelDocUrl = 'https://docs.google.com/document/d/1HOZvyLZb4mEU5tCygu9d6kx5vT4hsdRgrgWRWyu2B1c/edit?usp=sharing'\n",
    "githubRawLinkForCode = \"./code_for_readme.ipynb\"\n",
    "outPath = \"./README.ipynb\"\n",
    "\n",
    "mdResourceCollector = ResourceCollector(ResourceType.GOOGLEDOC)\n",
    "mdResourceCollector.collectFromRemoteFile(googelDocUrl)\n",
    "\n",
    "codeResourceCollector = ResourceCollector(ResourceType.IPYNB)\n",
    "codeResourceCollector.collectFromLocalFile(githubRawLinkForCode)\n",
    "\n",
    "mergeToIpynb = MergeToIpynb()\n",
    "mergeToIpynb.addMarkdownResource(mdResourceCollector.exportToMarkdownResource(True))\n",
    "mergeToIpynb.addCodeResource(codeResourceCollector.exportToCodeResource(True))\n",
    "\n",
    "out = mergeToIpynb.generate(outPath)"
   ]
  },
  {
   "cell_type": "markdown",
   "id": "0f232faa",
   "metadata": {},
   "source": []
  },
  {
   "cell_type": "markdown",
   "id": "a88e4a6f",
   "metadata": {},
   "source": [
    "How to install:\n",
    "===============\n",
    "\n",
    "`pip install mergegoogledocwithipynb`"
   ]
  },
  {
   "cell_type": "markdown",
   "id": "73db2a7d",
   "metadata": {},
   "source": [
    "More Examples:\n",
    "==============\n",
    "\n",
    "1. Read local html doc:"
   ]
  },
  {
   "attachments": {
    "id": {
     "id": "3_1"
    }
   },
   "cell_type": "code",
   "execution_count": null,
   "id": "7c231b16",
   "metadata": {},
   "outputs": [],
   "source": [
    "mdResourceCollector = ResourceCollector(ResourceType.HTML)\n",
    "mdResourceCollector.collectFromLocalFile(\"path/to/html\")"
   ]
  },
  {
   "cell_type": "markdown",
   "id": "c88fb7ed",
   "metadata": {},
   "source": [
    "2. Read local ipynb (Code only)"
   ]
  },
  {
   "attachments": {
    "id": {
     "id": "3_2"
    }
   },
   "cell_type": "code",
   "execution_count": null,
   "id": "096d22ce",
   "metadata": {},
   "outputs": [],
   "source": [
    "codeResourceCollector = ResourceCollector(ResourceType.IPYNB)\n",
    "codeResourceCollector.collectFromLocalFile(\"path/to/local/notebook.ipynb\")"
   ]
  },
  {
   "cell_type": "markdown",
   "id": "4af33568",
   "metadata": {},
   "source": [
    "3. Read ipynb (Code only) from github."
   ]
  },
  {
   "attachments": {
    "id": {
     "id": "3_3"
    }
   },
   "cell_type": "code",
   "execution_count": null,
   "id": "8bc87a0a",
   "metadata": {},
   "outputs": [],
   "source": [
    "codeResourceCollector = ResourceCollector(ResourceType.IPYNB)\n",
    "codeResourceCollector.collectFromRemoteFile(\"url/to/remote/notebook.ipynb\")"
   ]
  },
  {
   "cell_type": "markdown",
   "id": "d8a2cc3f",
   "metadata": {},
   "source": [
    "4. Read multiple doc files."
   ]
  },
  {
   "attachments": {
    "id": {
     "id": "3_4"
    }
   },
   "cell_type": "code",
   "execution_count": null,
   "id": "ecdb41b0",
   "metadata": {},
   "outputs": [],
   "source": [
    "mdResourceCollector1 = ResourceCollector(ResourceType.MARKDOWN)\n",
    "mdResourceCollector1.collectFromRawString(\"## some md text\")\n",
    "\n",
    "mdResourceCollector2 = ResourceCollector(ResourceType.MARKDOWN)\n",
    "mdResourceCollector2.collectFromRawString(\"## more md text\")\n",
    "\n",
    "mergeToIpynb = MergeToIpynb()\n",
    "mergeToIpynb.addMarkdownResource(mdResourceCollector1.exportToMarkdownResource(True))\n",
    "mergeToIpynb.addMarkdownResource(mdResourceCollector2.exportToMarkdownResource(True))"
   ]
  },
  {
   "cell_type": "markdown",
   "id": "7e8d0b2f",
   "metadata": {},
   "source": [
    "5. Read multiple code files, the files must be nbformat v4. If code cell id is duplicate, later code cell will overwrite previous one."
   ]
  },
  {
   "attachments": {
    "id": {
     "id": "3_5"
    }
   },
   "cell_type": "code",
   "execution_count": null,
   "id": "51f2c793",
   "metadata": {},
   "outputs": [],
   "source": [
    "codeResourceCollector1 = ResourceCollector(ResourceType.IPYNB)\n",
    "codeResourceCollector1.collectFromLocalFile(\"path/to/local/notebook.ipynb\")\n",
    "\n",
    "codeResourceCollector2 = ResourceCollector(ResourceType.IPYNB)\n",
    "codeResourceCollector2.collectFromLocalFile(\"path/to/remote/notebook.ipynb\")\n",
    "\n",
    "mergeToIpynb.addCodeResource(codeResourceCollector1.exportToCodeResource())\n",
    "mergeToIpynb.addCodeResource(codeResourceCollector2.exportToCodeResource())"
   ]
  },
  {
   "cell_type": "markdown",
   "id": "f5318118",
   "metadata": {},
   "source": []
  },
  {
   "cell_type": "markdown",
   "id": "7c65b72e",
   "metadata": {},
   "source": [
    "Advantage:\n",
    "==========\n",
    "\n",
    "Why use google doc + Jupyter code, instead have everything in one Jupyter notebook?\n",
    "\n",
    "1. Google doc is good at team editing, spelling checking and also has many addons, but it can not run code. Jupyter is good at interactive coding, but hard to edit with other team members at the same time. Although git/github can help teamwork, git is not friendly to non-coders, and merge conflicts are hard to solve for beginners. Also, if the Jupyter lab is hosted by others, you may not have the privilege to start JupyterLab in cooperation mode. With the help of this project, writers can edit the google doc at the same time, while the coder who is good at git can manage the code bank and easily merge the code into doc after both teams done"
   ]
  },
  {
   "cell_type": "markdown",
   "id": "0867ca8a",
   "metadata": {},
   "source": [
    "Disadvantage:\n",
    "=============\n",
    "\n",
    "Not all text styles in the google doc will be preserved in the final notebook.\n",
    "\n",
    "I use google API to convert google doc to html and then use `markdownify` to convert it to markdown, some text styles will be lost during the conversion."
   ]
  },
  {
   "cell_type": "markdown",
   "id": "4ebcdbf8",
   "metadata": {},
   "source": [
    "Note:\n",
    "=====\n",
    "\n",
    "Only public github raw files and google doc can be read directly. For a private file, you need to download google doc as html and read local html. \n",
    "\n",
    "Also, this is a very new package, bugs are expected. Please check the file produced by this tool carefully."
   ]
  },
  {
   "cell_type": "markdown",
   "id": "eb6d02f5",
   "metadata": {},
   "source": [
    "How to use:\n",
    "===========\n",
    "\n",
    "1. Create a google doc or any doc that can be exported to html or md. The annotation is similar to Jinja but more friendly to non-coder\n",
    "\n",
    "`{# this is a comment #}`\n",
    "\n",
    "`{%%}` or `{% newtextblock %}` will create new text cell\n",
    "\n",
    "`{{ code 1.1.1}}` will substitute a code block with id `1.1.1`. If the code block cannot be found, `# Code Not Found` will be there.\n",
    "\n",
    "2. Creating an ipynb will code only.\n",
    "\n",
    "        The first line of code will need to be `# code 1.1.1`. This code block will substitute `{{ code 1.1.1}}` in doc. \n",
    "\n",
    "        If you want to remove this line in final notebook, `codeResourceContainer.codeBlockRemoveCellId = True`"
   ]
  }
 ],
 "metadata": {},
 "nbformat": 4,
 "nbformat_minor": 5
}
