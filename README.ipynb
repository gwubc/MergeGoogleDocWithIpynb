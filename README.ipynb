{
 "cells": [
  {
   "cell_type": "markdown",
   "id": "441510bf",
   "metadata": {},
   "source": [
    "Google Doc + Jupyter (Code only) = Jupyter with Doc\n",
    "==================================================="
   ]
  },
  {
   "cell_type": "markdown",
   "id": "46fd11f6",
   "metadata": {},
   "source": [
    "This is a demonstrate for [MergeGoogleDocWithIpynb](https://www.google.com/url?q=https://github.com/gwubc/MergeGoogleDocWithIpynb&sa=D&source=editors&ust=1669269865613251&usg=AOvVaw0ULu1w6ZSWQbPUCfRGuj5-)"
   ]
  },
  {
   "cell_type": "markdown",
   "id": "a5e9243d",
   "metadata": {},
   "source": [
    "Introduction\n",
    "============"
   ]
  },
  {
   "cell_type": "markdown",
   "id": "e534a1e1",
   "metadata": {},
   "source": [
    "Dependency\n",
    "==========\n",
    "\n",
    "This project depend on"
   ]
  },
  {
   "attachments": {
    "id": {
     "id": "1_"
    }
   },
   "cell_type": "code",
   "execution_count": null,
   "id": "7bd97f8f",
   "metadata": {},
   "outputs": [],
   "source": [
    "# code 1.1\n",
    "import nbformat\n",
    "import markdownify\n",
    "import requests"
   ]
  },
  {
   "cell_type": "markdown",
   "id": "88528506",
   "metadata": {},
   "source": [
    "Example:\n",
    "========\n",
    "\n",
    "Merge a google doc with Jupyter (Code only)\n",
    "\n",
    "Link to doc:\n",
    "\n",
    "Link to Jupyter:\n",
    "\n",
    "The resulting notebook is the .ipynb file you are reading right now."
   ]
  },
  {
   "attachments": {
    "id": {
     "id": "2_"
    }
   },
   "cell_type": "code",
   "execution_count": null,
   "id": "a0794ff2",
   "metadata": {},
   "outputs": [],
   "source": [
    "# code 2.0\n",
    "\n",
    "from MergeGoogleDocWithIpynb.GenerateIpynb import GenerateIpynb\n",
    "from MergeGoogleDocWithIpynb.CodeResourceContainer import CodeResourceContainer\n",
    "from MergeGoogleDocWithIpynb.MdResourceContainer import MdResourceContainer\n",
    "\n",
    "\n",
    "googelDocUrl = 'https://docs.google.com/document/d/1HOZvyLZb4mEU5tCygu9d6kx5vT4hsdRgrgWRWyu2B1c/edit?usp=sharing'\n",
    "githubRawLinkForCode = \"https://raw.githubusercontent.com/gwubc/MergeGoogleDocWithIpynb/master/code_for_readme.ipynb\"\n",
    "outPath = \"./README.ipynb\"\n",
    "\n",
    "mdResourceContainer = MdResourceContainer()\n",
    "mdResourceContainer.addFromGoogleDocLink(googelDocUrl)\n",
    "\n",
    "codeResourceContainer = CodeResourceContainer()\n",
    "codeResourceContainer.codeBlockRemoveCellId = False\n",
    "codeResourceContainer.addFromGithubRawLink(githubRawLinkForCode)\n",
    "\n",
    "d = GenerateIpynb(mdResourceContainer, codeResourceContainer)\n",
    "\n",
    "out = d.generate(outPath)"
   ]
  },
  {
   "cell_type": "markdown",
   "id": "704718ca",
   "metadata": {},
   "source": []
  },
  {
   "cell_type": "markdown",
   "id": "e76a164b",
   "metadata": {},
   "source": [
    "How to install:\n",
    "===============\n",
    "\n",
    "`Pip install`"
   ]
  },
  {
   "cell_type": "markdown",
   "id": "bb24a35f",
   "metadata": {},
   "source": [
    "More Examples:\n",
    "==============\n",
    "\n",
    "1. Read local html doc:"
   ]
  },
  {
   "attachments": {
    "id": {
     "id": "3_"
    }
   },
   "cell_type": "code",
   "execution_count": null,
   "id": "fe64936b",
   "metadata": {},
   "outputs": [],
   "source": [
    "# code 3.5\n",
    "codeResourceContainer = CodeResourceContainer()\n",
    "codeResourceContainer.addFromLocalJupyterPath(\"path\")\n",
    "codeResourceContainer.addFromGithubRawLink(\"githubRawLinkForCodeIpynbFile\")\n"
   ]
  },
  {
   "cell_type": "markdown",
   "id": "4a993375",
   "metadata": {},
   "source": [
    "2. Read local ipynb (Code only)"
   ]
  },
  {
   "attachments": {
    "id": {
     "id": "3_"
    }
   },
   "cell_type": "code",
   "execution_count": null,
   "id": "8f16a93b",
   "metadata": {},
   "outputs": [],
   "source": [
    "# code 3.5\n",
    "codeResourceContainer = CodeResourceContainer()\n",
    "codeResourceContainer.addFromLocalJupyterPath(\"path\")\n",
    "codeResourceContainer.addFromGithubRawLink(\"githubRawLinkForCodeIpynbFile\")\n"
   ]
  },
  {
   "cell_type": "markdown",
   "id": "366360b1",
   "metadata": {},
   "source": [
    "3. Read ipynb (Code only) from github."
   ]
  },
  {
   "attachments": {
    "id": {
     "id": "3_"
    }
   },
   "cell_type": "code",
   "execution_count": null,
   "id": "09a5f793",
   "metadata": {},
   "outputs": [],
   "source": [
    "# code 3.5\n",
    "codeResourceContainer = CodeResourceContainer()\n",
    "codeResourceContainer.addFromLocalJupyterPath(\"path\")\n",
    "codeResourceContainer.addFromGithubRawLink(\"githubRawLinkForCodeIpynbFile\")\n"
   ]
  },
  {
   "cell_type": "markdown",
   "id": "0c2a277c",
   "metadata": {},
   "source": [
    "4. Read multiple doc files."
   ]
  },
  {
   "attachments": {
    "id": {
     "id": "3_"
    }
   },
   "cell_type": "code",
   "execution_count": null,
   "id": "19425b38",
   "metadata": {},
   "outputs": [],
   "source": [
    "# code 3.5\n",
    "codeResourceContainer = CodeResourceContainer()\n",
    "codeResourceContainer.addFromLocalJupyterPath(\"path\")\n",
    "codeResourceContainer.addFromGithubRawLink(\"githubRawLinkForCodeIpynbFile\")\n"
   ]
  },
  {
   "cell_type": "markdown",
   "id": "16672e20",
   "metadata": {},
   "source": [
    "5. Read multiple code files, the files must be nbformat v4. If code cell id is duplicate, later code cell will overwrite previous one."
   ]
  },
  {
   "attachments": {
    "id": {
     "id": "3_"
    }
   },
   "cell_type": "code",
   "execution_count": null,
   "id": "109ceaa2",
   "metadata": {},
   "outputs": [],
   "source": [
    "# code 3.5\n",
    "codeResourceContainer = CodeResourceContainer()\n",
    "codeResourceContainer.addFromLocalJupyterPath(\"path\")\n",
    "codeResourceContainer.addFromGithubRawLink(\"githubRawLinkForCodeIpynbFile\")\n"
   ]
  },
  {
   "cell_type": "markdown",
   "id": "00bf681a",
   "metadata": {},
   "source": []
  },
  {
   "cell_type": "markdown",
   "id": "f1d62daa",
   "metadata": {},
   "source": [
    "Advantage:\n",
    "==========\n",
    "\n",
    "Reasons why use google doc + Jupyter code instead have everything in one Jupyter notebook.\n",
    "\n",
    "1. Google doc is good at team edit, but not able to run code, Jupyter is good at interactive coding, but cannot edit with other teams. Although git/github can enable team work, git is not friendly to beginners and merge conflicts are hard to solve for non-coders. With the help of this project, writers can edit the google doc at same time, while coder who good at git can manage the code bank and easily merge the code into doc after both team done"
   ]
  },
  {
   "cell_type": "markdown",
   "id": "766c5b5d",
   "metadata": {},
   "source": [
    "Disadvantage:\n",
    "=============\n",
    "\n",
    "Not all text styles in the google doc will be preserved in the final notebook.\n",
    "\n",
    "I use google API to convert google doc to html and then use `markdownify` to convert it to markdown, some text styles will be lost during the conversion."
   ]
  },
  {
   "cell_type": "markdown",
   "id": "10ca97c9",
   "metadata": {},
   "source": [
    "Note:\n",
    "=====\n",
    "\n",
    "Only public github raw files and google doc can be read directly. For a private file, you need to download google doc as html and read local html."
   ]
  },
  {
   "cell_type": "markdown",
   "id": "e78b8c8a",
   "metadata": {},
   "source": [
    "How to use:\n",
    "===========\n",
    "\n",
    "1. Create a google doc or any doc that can be exported to html or md. The annotation is similar to Jinja but more friendly to non-coder\n",
    "\n",
    "`{# this is a comment #}`\n",
    "\n",
    "`{%%}` or `{% newtextblock %}` will create new text cell\n",
    "\n",
    "`{{ code 1.1.1}}` will substitute a code block with id `1.1.1`. If the code block cannot be found, `# Code Not Found` will be there.\n",
    "\n",
    "2. Creating an ipynb will code only.\n",
    "\n",
    "        The first line of code will need to be `# code 1.1.1`. This code block will substitute `{{ code 1.1.1}}` in doc. \n",
    "\n",
    "        If you want to remove this line in final notebook, `codeResourceContainer.codeBlockRemoveCellId = True`"
   ]
  }
 ],
 "metadata": {},
 "nbformat": 4,
 "nbformat_minor": 5
}
