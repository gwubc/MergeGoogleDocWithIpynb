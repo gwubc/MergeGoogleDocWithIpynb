{
 "cells": [
  {
   "cell_type": "markdown",
   "id": "cbb44594",
   "metadata": {},
   "source": [
    "Google Doc + Jupyter (Code only) = Jupyter with Doc\n",
    "==================================================="
   ]
  },
  {
   "cell_type": "markdown",
   "id": "be31393a",
   "metadata": {},
   "source": [
    "This is a demo for [MergeGoogleDocWithIpynb](https://www.google.com/url?q=https://github.com/gwubc/MergeGoogleDocWithIpynb&sa=D&source=editors&ust=1669344650278917&usg=AOvVaw2DOHYIaeSci3F9FV4qu3KF)"
   ]
  },
  {
   "cell_type": "markdown",
   "id": "a7bb2c01",
   "metadata": {},
   "source": [
    "Introduction\n",
    "============"
   ]
  },
  {
   "cell_type": "markdown",
   "id": "8fc7e0bc",
   "metadata": {},
   "source": [
    "Dependency\n",
    "==========\n",
    "\n",
    "This project depend on"
   ]
  },
  {
   "attachments": {
    "id": {
     "id": "1_1"
    }
   },
   "cell_type": "code",
   "execution_count": null,
   "id": "fdac2eb3",
   "metadata": {},
   "outputs": [],
   "source": [
    "import nbformat\n",
    "import markdownify\n",
    "import requests"
   ]
  },
  {
   "cell_type": "markdown",
   "id": "273c5d6e",
   "metadata": {},
   "source": [
    "Example:\n",
    "========\n",
    "\n",
    "Merge a google doc with Jupyter (Code only)\n",
    "\n",
    "Link to doc: [link](https://www.google.com/url?q=https://docs.google.com/document/d/1HOZvyLZb4mEU5tCygu9d6kx5vT4hsdRgrgWRWyu2B1c/edit?usp%3Dsharing&sa=D&source=editors&ust=1669344650281134&usg=AOvVaw2QeXoQDTWneBfrdRR8mFow)\n",
    "\n",
    "Link to Jupyter: [link](https://www.google.com/url?q=https://github.com/gwubc/MergeGoogleDocWithIpynb/blob/master/code_for_readme.ipynb&sa=D&source=editors&ust=1669344650281631&usg=AOvVaw2B2roFuwMafn02V-r7k-iy)\n",
    "\n",
    "The resulting notebook is the .ipynb file you are reading right now.\n",
    "\n",
    "Here is the code to generate this notebook:"
   ]
  },
  {
   "attachments": {
    "id": {
     "id": "2_0"
    }
   },
   "cell_type": "code",
   "execution_count": null,
   "id": "9c0ff86a",
   "metadata": {},
   "outputs": [],
   "source": [
    "\n",
    "from MergeGoogleDocWithIpynb.MergeToIpynb import MergeToIpynb\n",
    "from MergeGoogleDocWithIpynb.CodeResourceContainer import CodeResourceContainer\n",
    "from MergeGoogleDocWithIpynb.MdResourceContainer import MdResourceContainer\n",
    "from MergeGoogleDocWithIpynb.ResourceCollector import ResourceCollector, ResourceType\n",
    "\n",
    "\n",
    "googelDocUrl = 'https://docs.google.com/document/d/1HOZvyLZb4mEU5tCygu9d6kx5vT4hsdRgrgWRWyu2B1c/edit?usp=sharing'\n",
    "githubRawLinkForCode = \"https://raw.githubusercontent.com/gwubc/MergeGoogleDocWithIpynb/master/code_for_readme.ipynb\"\n",
    "outPath = \"./README.ipynb\"\n",
    "\n",
    "mdResourceCollector = ResourceCollector(ResourceType.GOOGLEDOC)\n",
    "mdResourceCollector.collectFromRemoteFile(googelDocUrl)\n",
    "\n",
    "mdResourceContainer = MdResourceContainer()\n",
    "mdResourceContainer.add(mdResourceCollector.exportToMd())\n",
    "\n",
    "codeResourceCollector = ResourceCollector(ResourceType.IPYNB)\n",
    "codeResourceCollector.collectFromRemoteFile(githubRawLinkForCode)\n",
    "\n",
    "codeResourceContainer = CodeResourceContainer()\n",
    "codeResourceContainer.codeBlockRemoveCellId = True\n",
    "codeResourceContainer.add(codeResourceCollector.exportToIpynb())\n",
    "\n",
    "d = MergeToIpynb(mdResourceContainer, codeResourceContainer)\n",
    "\n",
    "out = d.generate(outPath)"
   ]
  },
  {
   "cell_type": "markdown",
   "id": "470a472f",
   "metadata": {},
   "source": []
  },
  {
   "cell_type": "markdown",
   "id": "3ea3a580",
   "metadata": {},
   "source": [
    "How to install:\n",
    "===============\n",
    "\n",
    "`pip install`"
   ]
  },
  {
   "cell_type": "markdown",
   "id": "b404fe59",
   "metadata": {},
   "source": [
    "More Examples:\n",
    "==============\n",
    "\n",
    "1. Read local html doc:"
   ]
  },
  {
   "attachments": {
    "id": {
     "id": "3_1"
    }
   },
   "cell_type": "code",
   "execution_count": null,
   "id": "b7674455",
   "metadata": {},
   "outputs": [],
   "source": [
    "mdResourceCollector = ResourceCollector(ResourceType.HTML)\n",
    "mdResourceCollector.collectFromLocalFile(\"path/to/html\")\n",
    "\n",
    "mdResourceContainer = MdResourceContainer()\n",
    "mdResourceContainer.add(mdResourceCollector.exportToMd())"
   ]
  },
  {
   "cell_type": "markdown",
   "id": "ffd4e759",
   "metadata": {},
   "source": [
    "2. Read local ipynb (Code only)"
   ]
  },
  {
   "attachments": {
    "id": {
     "id": "3_2"
    }
   },
   "cell_type": "code",
   "execution_count": null,
   "id": "4fb6268a",
   "metadata": {},
   "outputs": [],
   "source": [
    "\n",
    "codeResourceCollector = ResourceCollector(ResourceType.IPYNB)\n",
    "codeResourceCollector.collectFromLocalFile(\"path/to/local/notebook.ipynb\")\n",
    "\n",
    "codeResourceContainer = CodeResourceContainer()\n",
    "codeResourceContainer.add(codeResourceCollector.exportToIpynb())"
   ]
  },
  {
   "cell_type": "markdown",
   "id": "c081dc31",
   "metadata": {},
   "source": [
    "3. Read ipynb (Code only) from github."
   ]
  },
  {
   "attachments": {
    "id": {
     "id": "3_3"
    }
   },
   "cell_type": "code",
   "execution_count": null,
   "id": "4eefc29e",
   "metadata": {},
   "outputs": [],
   "source": [
    "\n",
    "codeResourceCollector = ResourceCollector(ResourceType.IPYNB)\n",
    "codeResourceCollector.collectFromLocalFile(\"path/to/remote/notebook.ipynb\")\n",
    "\n",
    "codeResourceContainer = CodeResourceContainer()\n",
    "codeResourceContainer.add(codeResourceCollector.exportToIpynb())"
   ]
  },
  {
   "cell_type": "markdown",
   "id": "f8a193c1",
   "metadata": {},
   "source": [
    "4. Read multiple doc files."
   ]
  },
  {
   "attachments": {
    "id": {
     "id": "3_4"
    }
   },
   "cell_type": "code",
   "execution_count": null,
   "id": "c2e2a27f",
   "metadata": {},
   "outputs": [],
   "source": [
    "mdResource = MdResourceContainer()\n",
    "mdResource.add(\"##some md text\")\n",
    "mdResource.add(\"##more md text\")"
   ]
  },
  {
   "cell_type": "markdown",
   "id": "bab10b01",
   "metadata": {},
   "source": [
    "5. Read multiple code files, the files must be nbformat v4. If code cell id is duplicate, later code cell will overwrite previous one."
   ]
  },
  {
   "attachments": {
    "id": {
     "id": "3_5"
    }
   },
   "cell_type": "code",
   "execution_count": null,
   "id": "5f7125eb",
   "metadata": {},
   "outputs": [],
   "source": [
    "\n",
    "codeResourceCollector1 = ResourceCollector(ResourceType.IPYNB)\n",
    "codeResourceCollector1.collectFromLocalFile(\"path/to/local/notebook.ipynb\")\n",
    "\n",
    "codeResourceCollector2 = ResourceCollector(ResourceType.IPYNB)\n",
    "codeResourceCollector2.collectFromLocalFile(\"path/to/remote/notebook.ipynb\")\n",
    "\n",
    "codeResourceContainer = CodeResourceContainer()\n",
    "codeResourceContainer.add(codeResourceCollector1.exportToIpynb())\n",
    "codeResourceContainer.add(codeResourceCollector2.exportToIpynb())\n"
   ]
  },
  {
   "cell_type": "markdown",
   "id": "12e3a60a",
   "metadata": {},
   "source": []
  },
  {
   "cell_type": "markdown",
   "id": "71befe8b",
   "metadata": {},
   "source": [
    "Advantage:\n",
    "==========\n",
    "\n",
    "Reasons why use google doc + Jupyter code, instead have everything in one Jupyter notebook ?\n",
    "\n",
    "1. Google doc is good at team edit and spelling check, but not able to run code, Jupyter is good at interactive coding, but cannot edit with other team members. Although git/github can enable team work, git is not friendly to non-coders and merge conflicts are hard to solve for beginners. With the help of this project, writers can edit the google doc at same time, while coder who good at git can manage the code bank and easily merge the code into doc after both team done"
   ]
  },
  {
   "cell_type": "markdown",
   "id": "524040c6",
   "metadata": {},
   "source": [
    "Disadvantage:\n",
    "=============\n",
    "\n",
    "Not all text styles in the google doc will be preserved in the final notebook.\n",
    "\n",
    "I use google API to convert google doc to html and then use `markdownify` to convert it to markdown, some text styles will be lost during the conversion."
   ]
  },
  {
   "cell_type": "markdown",
   "id": "2fc5190d",
   "metadata": {},
   "source": [
    "Note:\n",
    "=====\n",
    "\n",
    "Only public github raw files and google doc can be read directly. For a private file, you need to download google doc as html and read local html."
   ]
  },
  {
   "cell_type": "markdown",
   "id": "79eec76a",
   "metadata": {},
   "source": [
    "How to use:\n",
    "===========\n",
    "\n",
    "1. Create a google doc or any doc that can be exported to html or md. The annotation is similar to Jinja but more friendly to non-coder\n",
    "\n",
    "`{# this is a comment #}`\n",
    "\n",
    "`{%%}` or `{% newtextblock %}` will create new text cell\n",
    "\n",
    "`{{ code 1.1.1}}` will substitute a code block with id `1.1.1`. If the code block cannot be found, `# Code Not Found` will be there.\n",
    "\n",
    "2. Creating an ipynb will code only.\n",
    "\n",
    "        The first line of code will need to be `# code 1.1.1`. This code block will substitute `{{ code 1.1.1}}` in doc. \n",
    "\n",
    "        If you want to remove this line in final notebook, `codeResourceContainer.codeBlockRemoveCellId = True`"
   ]
  }
 ],
 "metadata": {},
 "nbformat": 4,
 "nbformat_minor": 5
}
