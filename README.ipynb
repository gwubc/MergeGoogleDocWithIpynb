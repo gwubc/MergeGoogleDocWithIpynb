{
 "cells": [
  {
   "cell_type": "markdown",
   "id": "eafbbec5",
   "metadata": {},
   "source": [
    "Google Doc + Jupyter (Code only) = Jupyter with Doc\n",
    "==================================================="
   ]
  },
  {
   "cell_type": "markdown",
   "id": "38155117",
   "metadata": {},
   "source": [
    "This is a demo for [MergeGoogleDocWithIpynb](https://www.google.com/url?q=https://github.com/gwubc/MergeGoogleDocWithIpynb&sa=D&source=editors&ust=1669358722683716&usg=AOvVaw3tBIoWbEL7H-RCps09YUAB)"
   ]
  },
  {
   "cell_type": "markdown",
   "id": "d9e46360",
   "metadata": {},
   "source": [
    "Introduction\n",
    "============"
   ]
  },
  {
   "cell_type": "markdown",
   "id": "c63120bb",
   "metadata": {},
   "source": [
    "Dependency\n",
    "==========\n",
    "\n",
    "This project depend on"
   ]
  },
  {
   "attachments": {
    "id": {
     "id": "1_1"
    }
   },
   "cell_type": "code",
   "execution_count": null,
   "id": "fc20ff93",
   "metadata": {},
   "outputs": [],
   "source": [
    "import nbformat\n",
    "import markdownify\n",
    "import requests"
   ]
  },
  {
   "cell_type": "markdown",
   "id": "6fc6c88e",
   "metadata": {},
   "source": [
    "Example:\n",
    "========\n",
    "\n",
    "Merge a google doc with Jupyter (Code only)\n",
    "\n",
    "Link to doc: [link](https://www.google.com/url?q=https://docs.google.com/document/d/1HOZvyLZb4mEU5tCygu9d6kx5vT4hsdRgrgWRWyu2B1c/edit?usp%3Dsharing&sa=D&source=editors&ust=1669358722685229&usg=AOvVaw1eIoYYLlc1Govnsc_T_sPw)\n",
    "\n",
    "Link to Jupyter: [link](https://www.google.com/url?q=https://github.com/gwubc/MergeGoogleDocWithIpynb/blob/master/code_for_readme.ipynb&sa=D&source=editors&ust=1669358722685529&usg=AOvVaw2rnJ65gSakK9dpJGVdrSx4)\n",
    "\n",
    "The resulting notebook is the .ipynb file you are reading right now.\n",
    "\n",
    "Here is the code to generate this notebook:"
   ]
  },
  {
   "attachments": {
    "id": {
     "id": "2_0"
    }
   },
   "cell_type": "code",
   "execution_count": null,
   "id": "d7d00363",
   "metadata": {},
   "outputs": [],
   "source": [
    "from MergeGoogleDocWithIpynb.MergeToIpynb import MergeToIpynb\n",
    "from MergeGoogleDocWithIpynb.CodeResourceContainer import CodeResourceContainer\n",
    "from MergeGoogleDocWithIpynb.MdResourceContainer import MdResourceContainer\n",
    "from MergeGoogleDocWithIpynb.ResourceCollector import ResourceCollector, ResourceType\n",
    "\n",
    "\n",
    "googelDocUrl = 'https://docs.google.com/document/d/1HOZvyLZb4mEU5tCygu9d6kx5vT4hsdRgrgWRWyu2B1c/edit?usp=sharing'\n",
    "githubRawLinkForCode = \"https://raw.githubusercontent.com/gwubc/MergeGoogleDocWithIpynb/master/code_for_readme.ipynb\"\n",
    "outPath = \"./README.ipynb\"\n",
    "\n",
    "mdResourceCollector = ResourceCollector(ResourceType.GOOGLEDOC)\n",
    "mdResourceCollector.collectFromRemoteFile(googelDocUrl)\n",
    "\n",
    "mdResourceContainer = MdResourceContainer()\n",
    "mdResourceContainer.add(mdResourceCollector.exportToMd())\n",
    "\n",
    "codeResourceCollector = ResourceCollector(ResourceType.IPYNB)\n",
    "codeResourceCollector.collectFromRemoteFile(githubRawLinkForCode)\n",
    "\n",
    "codeResourceContainer = CodeResourceContainer()\n",
    "codeResourceContainer.codeBlockRemoveCellId = True\n",
    "codeResourceContainer.add(codeResourceCollector.exportToIpynb())\n",
    "\n",
    "mergeToIpynb = MergeToIpynb(mdResourceContainer, codeResourceContainer)\n",
    "\n",
    "out = mergeToIpynb.generate(outPath)"
   ]
  },
  {
   "cell_type": "markdown",
   "id": "c971b4c9",
   "metadata": {},
   "source": []
  },
  {
   "cell_type": "markdown",
   "id": "9ae4c1da",
   "metadata": {},
   "source": [
    "How to install:\n",
    "===============\n",
    "\n",
    "`pip install mergegoogledocwithipynb`"
   ]
  },
  {
   "cell_type": "markdown",
   "id": "b5dbc334",
   "metadata": {},
   "source": [
    "More Examples:\n",
    "==============\n",
    "\n",
    "1. Read local html doc:"
   ]
  },
  {
   "attachments": {
    "id": {
     "id": "3_1"
    }
   },
   "cell_type": "code",
   "execution_count": null,
   "id": "fdee1352",
   "metadata": {},
   "outputs": [],
   "source": [
    "mdResourceCollector = ResourceCollector(ResourceType.HTML)\n",
    "mdResourceCollector.collectFromLocalFile(\"path/to/html\")\n",
    "\n",
    "mdResourceContainer = MdResourceContainer()\n",
    "mdResourceContainer.add(mdResourceCollector.exportToMd())"
   ]
  },
  {
   "cell_type": "markdown",
   "id": "5c3d9766",
   "metadata": {},
   "source": [
    "2. Read local ipynb (Code only)"
   ]
  },
  {
   "attachments": {
    "id": {
     "id": "3_2"
    }
   },
   "cell_type": "code",
   "execution_count": null,
   "id": "17bc4246",
   "metadata": {},
   "outputs": [],
   "source": [
    "codeResourceCollector = ResourceCollector(ResourceType.IPYNB)\n",
    "codeResourceCollector.collectFromLocalFile(\"path/to/local/notebook.ipynb\")\n",
    "\n",
    "codeResourceContainer = CodeResourceContainer()\n",
    "codeResourceContainer.add(codeResourceCollector.exportToIpynb())"
   ]
  },
  {
   "cell_type": "markdown",
   "id": "63eb4219",
   "metadata": {},
   "source": [
    "3. Read ipynb (Code only) from github."
   ]
  },
  {
   "attachments": {
    "id": {
     "id": "3_3"
    }
   },
   "cell_type": "code",
   "execution_count": null,
   "id": "06f47265",
   "metadata": {},
   "outputs": [],
   "source": [
    "codeResourceCollector = ResourceCollector(ResourceType.IPYNB)\n",
    "codeResourceCollector.collectFromLocalFile(\"path/to/remote/notebook.ipynb\")\n",
    "\n",
    "codeResourceContainer = CodeResourceContainer()\n",
    "codeResourceContainer.add(codeResourceCollector.exportToIpynb())"
   ]
  },
  {
   "cell_type": "markdown",
   "id": "4716bcf6",
   "metadata": {},
   "source": [
    "4. Read multiple doc files."
   ]
  },
  {
   "attachments": {
    "id": {
     "id": "3_4"
    }
   },
   "cell_type": "code",
   "execution_count": null,
   "id": "25eea1d5",
   "metadata": {},
   "outputs": [],
   "source": [
    "mdResourceContainer = MdResourceContainer()\n",
    "mdResourceContainer.add(\"##some md text\")\n",
    "mdResourceContainer.add(\"##more md text\")"
   ]
  },
  {
   "cell_type": "markdown",
   "id": "2817855d",
   "metadata": {},
   "source": [
    "5. Read multiple code files, the files must be nbformat v4. If code cell id is duplicate, later code cell will overwrite previous one."
   ]
  },
  {
   "attachments": {
    "id": {
     "id": "3_5"
    }
   },
   "cell_type": "code",
   "execution_count": null,
   "id": "eb2fb837",
   "metadata": {},
   "outputs": [],
   "source": [
    "codeResourceCollector1 = ResourceCollector(ResourceType.IPYNB)\n",
    "codeResourceCollector1.collectFromLocalFile(\"path/to/local/notebook.ipynb\")\n",
    "\n",
    "codeResourceCollector2 = ResourceCollector(ResourceType.IPYNB)\n",
    "codeResourceCollector2.collectFromLocalFile(\"path/to/remote/notebook.ipynb\")\n",
    "\n",
    "codeResourceContainer = CodeResourceContainer()\n",
    "codeResourceContainer.add(codeResourceCollector1.exportToIpynb())\n",
    "codeResourceContainer.add(codeResourceCollector2.exportToIpynb())\n"
   ]
  },
  {
   "cell_type": "markdown",
   "id": "374f5642",
   "metadata": {},
   "source": []
  },
  {
   "cell_type": "markdown",
   "id": "9c35992f",
   "metadata": {},
   "source": [
    "Advantage:\n",
    "==========\n",
    "\n",
    "Reasons why use google doc + Jupyter code, instead have everything in one Jupyter notebook ?\n",
    "\n",
    "1. Google doc is good at team edit and spelling check, but not able to run code, Jupyter is good at interactive coding, but cannot edit with other team members. Although git/github can enable team work, git is not friendly to non-coders and merge conflicts are hard to solve for beginners. With the help of this project, writers can edit the google doc at same time, while coder who good at git can manage the code bank and easily merge the code into doc after both team done"
   ]
  },
  {
   "cell_type": "markdown",
   "id": "dccf259c",
   "metadata": {},
   "source": [
    "Disadvantage:\n",
    "=============\n",
    "\n",
    "Not all text styles in the google doc will be preserved in the final notebook.\n",
    "\n",
    "I use google API to convert google doc to html and then use `markdownify` to convert it to markdown, some text styles will be lost during the conversion."
   ]
  },
  {
   "cell_type": "markdown",
   "id": "d12b68c3",
   "metadata": {},
   "source": [
    "Note:\n",
    "=====\n",
    "\n",
    "Only public github raw files and google doc can be read directly. For a private file, you need to download google doc as html and read local html."
   ]
  },
  {
   "cell_type": "markdown",
   "id": "f436a94a",
   "metadata": {},
   "source": [
    "How to use:\n",
    "===========\n",
    "\n",
    "1. Create a google doc or any doc that can be exported to html or md. The annotation is similar to Jinja but more friendly to non-coder\n",
    "\n",
    "`{# this is a comment #}`\n",
    "\n",
    "`{%%}` or `{% newtextblock %}` will create new text cell\n",
    "\n",
    "`{{ code 1.1.1}}` will substitute a code block with id `1.1.1`. If the code block cannot be found, `# Code Not Found` will be there.\n",
    "\n",
    "2. Creating an ipynb will code only.\n",
    "\n",
    "        The first line of code will need to be `# code 1.1.1`. This code block will substitute `{{ code 1.1.1}}` in doc. \n",
    "\n",
    "        If you want to remove this line in final notebook, `codeResourceContainer.codeBlockRemoveCellId = True`"
   ]
  }
 ],
 "metadata": {},
 "nbformat": 4,
 "nbformat_minor": 5
}
