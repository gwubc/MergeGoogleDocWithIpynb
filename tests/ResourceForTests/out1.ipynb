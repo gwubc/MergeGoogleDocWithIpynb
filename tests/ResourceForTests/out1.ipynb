{
 "cells": [
  {
   "cell_type": "markdown",
   "id": "f32a0c40",
   "metadata": {},
   "source": [
    "This is markdown 1"
   ]
  },
  {
   "attachments": {
    "id": {
     "id": "1"
    }
   },
   "cell_type": "code",
   "execution_count": null,
   "id": "f0f6adef",
   "metadata": {},
   "outputs": [],
   "source": [
    "print(\"This is from codePart1.ipynb\")"
   ]
  },
  {
   "cell_type": "markdown",
   "id": "968db270",
   "metadata": {},
   "source": [
    "End of markdown1"
   ]
  }
 ],
 "metadata": {},
 "nbformat": 4,
 "nbformat_minor": 5
}
