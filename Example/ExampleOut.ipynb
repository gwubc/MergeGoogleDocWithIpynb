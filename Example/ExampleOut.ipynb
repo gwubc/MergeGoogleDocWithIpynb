{
 "cells": [
  {
   "cell_type": "markdown",
   "id": "e2b78a1b",
   "metadata": {},
   "source": [
    "This is markdown 1"
   ]
  },
  {
   "attachments": {
    "id": {
     "id": "1"
    }
   },
   "cell_type": "code",
   "execution_count": null,
   "id": "011b9dc9",
   "metadata": {},
   "outputs": [],
   "source": [
    "print(\"This is from codePart1.ipynb\")"
   ]
  },
  {
   "cell_type": "markdown",
   "id": "50c46534",
   "metadata": {},
   "source": [
    "End of markdown1"
   ]
  },
  {
   "cell_type": "markdown",
   "id": "1c6f6ed8",
   "metadata": {},
   "source": [
    "This is markdown 2"
   ]
  },
  {
   "attachments": {
    "id": {
     "id": "2"
    }
   },
   "cell_type": "code",
   "execution_count": null,
   "id": "e9bf0f40",
   "metadata": {},
   "outputs": [],
   "source": [
    "print(\"This is from codePart2.ipynb\")"
   ]
  },
  {
   "cell_type": "markdown",
   "id": "9577a39e",
   "metadata": {},
   "source": [
    "End of markdown2"
   ]
  }
 ],
 "metadata": {},
 "nbformat": 4,
 "nbformat_minor": 5
}
