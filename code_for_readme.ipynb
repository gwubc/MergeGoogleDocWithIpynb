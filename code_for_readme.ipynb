{
 "cells": [
  {
   "cell_type": "code",
   "execution_count": null,
   "metadata": {
    "collapsed": true
   },
   "outputs": [],
   "source": [
    "# code 1.1\n",
    "import nbformat\n",
    "import markdownify\n",
    "import requests"
   ]
  },
  {
   "cell_type": "code",
   "execution_count": 1,
   "outputs": [],
   "source": [
    "# code 2.0\n",
    "from MergeGoogleDocWithIpynb.MergeToIpynb import MergeToIpynb\n",
    "from MergeGoogleDocWithIpynb.ResourceCollector import ResourceCollector\n",
    "from MergeGoogleDocWithIpynb.Types import ResourceType\n",
    "\n",
    "googelDocUrl = 'https://docs.google.com/document/d/1HOZvyLZb4mEU5tCygu9d6kx5vT4hsdRgrgWRWyu2B1c/edit?usp=sharing'\n",
    "codePath = \"./code_for_readme.ipynb\"\n",
    "outPath = \"./README.ipynb\"\n",
    "\n",
    "mdResourceCollector = ResourceCollector(ResourceType.GOOGLEDOC)\n",
    "mdResourceCollector.collectFromRemoteFile(googelDocUrl)\n",
    "\n",
    "codeResourceCollector = ResourceCollector(ResourceType.IPYNB)\n",
    "codeResourceCollector.collectFromLocalFile(codePath)\n",
    "\n",
    "mergeToIpynb = MergeToIpynb()\n",
    "mergeToIpynb.addMarkdownResource(mdResourceCollector.exportToMarkdownResource(True))\n",
    "mergeToIpynb.addCodeResource(codeResourceCollector.exportToCodeResource(True))\n",
    "\n",
    "d = codeResourceCollector.exportJsonData()\n",
    "mergeToIpynb.generate(outPath, data=d)"
   ],
   "metadata": {
    "collapsed": false
   }
  },
  {
   "cell_type": "code",
   "execution_count": null,
   "outputs": [],
   "source": [],
   "metadata": {
    "collapsed": false
   }
  },
  {
   "cell_type": "code",
   "execution_count": null,
   "outputs": [],
   "source": [
    "# code 3.1\n",
    "mdResourceCollector = ResourceCollector(ResourceType.HTML)\n",
    "mdResourceCollector.collectFromLocalFile(\"path/to/html\")"
   ],
   "metadata": {
    "collapsed": false
   }
  },
  {
   "cell_type": "code",
   "execution_count": null,
   "outputs": [],
   "source": [
    "# code 3.2\n",
    "codeResourceCollector = ResourceCollector(ResourceType.IPYNB)\n",
    "codeResourceCollector.collectFromLocalFile(\"path/to/local/notebook.ipynb\")"
   ],
   "metadata": {
    "collapsed": false
   }
  },
  {
   "cell_type": "code",
   "execution_count": null,
   "outputs": [],
   "source": [
    "# code 3.3\n",
    "codeResourceCollector = ResourceCollector(ResourceType.IPYNB)\n",
    "codeResourceCollector.collectFromRemoteFile(\"url/to/remote/notebook.ipynb\")"
   ],
   "metadata": {
    "collapsed": false
   }
  },
  {
   "cell_type": "code",
   "execution_count": null,
   "outputs": [],
   "source": [
    "# code 3.4\n",
    "mdResourceCollector1 = ResourceCollector(ResourceType.MARKDOWN)\n",
    "mdResourceCollector1.collectFromRawString(\"## some md text\")\n",
    "\n",
    "mdResourceCollector2 = ResourceCollector(ResourceType.MARKDOWN)\n",
    "mdResourceCollector2.collectFromRawString(\"## more md text\")\n",
    "\n",
    "mergeToIpynb = MergeToIpynb()\n",
    "mergeToIpynb.addMarkdownResource(mdResourceCollector1.exportToMarkdownResource(True))\n",
    "mergeToIpynb.addMarkdownResource(mdResourceCollector2.exportToMarkdownResource(True))"
   ],
   "metadata": {
    "collapsed": false
   }
  },
  {
   "cell_type": "code",
   "execution_count": null,
   "outputs": [],
   "source": [
    "# code 3.5\n",
    "codeResourceCollector1 = ResourceCollector(ResourceType.IPYNB)\n",
    "codeResourceCollector1.collectFromLocalFile(\"path/to/local/notebook.ipynb\")\n",
    "\n",
    "codeResourceCollector2 = ResourceCollector(ResourceType.IPYNB)\n",
    "codeResourceCollector2.collectFromLocalFile(\"path/to/remote/notebook.ipynb\")\n",
    "\n",
    "mergeToIpynb.addCodeResource(codeResourceCollector1.exportToCodeResource())\n",
    "mergeToIpynb.addCodeResource(codeResourceCollector2.exportToCodeResource())"
   ],
   "metadata": {
    "collapsed": false
   }
  },
  {
   "cell_type": "code",
   "execution_count": null,
   "outputs": [],
   "source": [],
   "metadata": {
    "collapsed": false
   }
  },
  {
   "cell_type": "code",
   "execution_count": null,
   "outputs": [],
   "source": [],
   "metadata": {
    "collapsed": false
   }
  },
  {
   "cell_type": "code",
   "execution_count": 2,
   "outputs": [
    {
     "name": "stdout",
     "output_type": "stream",
     "text": [
      "{\"currentTime\": \"2022-12-19\", \"listOfInt\": [1, 1, 2, 3, 5, 8]}\n"
     ]
    }
   ],
   "source": [
    "# Data\n",
    "import json\n",
    "import time\n",
    "d = {}\n",
    "d['currentTime'] = time.strftime(\"%Y-%m-%d\")\n",
    "d['listOfInt'] = [1, 1, 2, 3, 5, 8]\n",
    "print(json.dumps(d))"
   ],
   "metadata": {
    "collapsed": false
   }
  },
  {
   "cell_type": "code",
   "execution_count": null,
   "outputs": [],
   "source": [],
   "metadata": {
    "collapsed": false
   }
  }
 ],
 "metadata": {
  "kernelspec": {
   "display_name": "Python 3",
   "language": "python",
   "name": "python3"
  },
  "language_info": {
   "codemirror_mode": {
    "name": "ipython",
    "version": 2
   },
   "file_extension": ".py",
   "mimetype": "text/x-python",
   "name": "python",
   "nbconvert_exporter": "python",
   "pygments_lexer": "ipython2",
   "version": "2.7.6"
  }
 },
 "nbformat": 4,
 "nbformat_minor": 0
}
