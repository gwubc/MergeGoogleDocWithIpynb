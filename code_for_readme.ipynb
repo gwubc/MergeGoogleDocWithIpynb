{
 "cells": [
  {
   "cell_type": "code",
   "execution_count": null,
   "metadata": {
    "collapsed": true
   },
   "outputs": [],
   "source": [
    "# code 1.1\n",
    "import nbformat\n",
    "import markdownify\n",
    "import requests"
   ]
  },
  {
   "cell_type": "code",
   "execution_count": null,
   "outputs": [],
   "source": [
    "from MergeGoogleDocWithIpynb.GenerateIpynb import GenerateIpynb\n",
    "from MergeGoogleDocWithIpynb.CodeResourceContainer import CodeResourceContainer\n",
    "from MergeGoogleDocWithIpynb.MdResourceContainer import MdResourceContainer\n",
    "\n",
    "# code 2.0\n",
    "googelDocUrl = 'https://docs.google.com/document/d/1og5RoBWh7wTUtrfMGIlnd0Pg6XDP7CbnYWeE2naTQNc/edit#'\n",
    "ipySourcePath = \"\"\n",
    "outPath = \"./README.ipynb\"\n",
    "\n",
    "mdResource = MdResourceContainer()\n",
    "mdResource.addMdFileFromGoogleDocLink(googelDocUrl)\n",
    "\n",
    "codeR = CodeResourceContainer()\n",
    "codeR.codeBlockRemoveCellId = False\n",
    "codeR.addCodeFromJupyterPath(ipySourcePath)\n",
    "d = GenerateIpynb(mdResource, codeR)\n",
    "\n",
    "d.generate(outPath)"
   ],
   "metadata": {
    "collapsed": false
   }
  },
  {
   "cell_type": "code",
   "execution_count": null,
   "outputs": [],
   "source": [],
   "metadata": {
    "collapsed": false
   }
  },
  {
   "cell_type": "code",
   "execution_count": null,
   "outputs": [],
   "source": [
    "# code 3.1\n",
    "mdResource = MdResourceContainer()\n",
    "mdResource."
   ],
   "metadata": {
    "collapsed": false
   }
  },
  {
   "cell_type": "code",
   "execution_count": null,
   "outputs": [],
   "source": [
    "# code 3.2\n",
    "codeR = CodeResourceContainer()\n",
    "codeR.addCodeFromJupyterPath(\"path/to/notebook.ipynb\")"
   ],
   "metadata": {
    "collapsed": false
   }
  },
  {
   "cell_type": "code",
   "execution_count": null,
   "outputs": [],
   "source": [],
   "metadata": {
    "collapsed": false
   }
  },
  {
   "cell_type": "code",
   "execution_count": null,
   "outputs": [],
   "source": [],
   "metadata": {
    "collapsed": false
   }
  }
 ],
 "metadata": {
  "kernelspec": {
   "display_name": "Python 3",
   "language": "python",
   "name": "python3"
  },
  "language_info": {
   "codemirror_mode": {
    "name": "ipython",
    "version": 2
   },
   "file_extension": ".py",
   "mimetype": "text/x-python",
   "name": "python",
   "nbconvert_exporter": "python",
   "pygments_lexer": "ipython2",
   "version": "2.7.6"
  }
 },
 "nbformat": 4,
 "nbformat_minor": 0
}
