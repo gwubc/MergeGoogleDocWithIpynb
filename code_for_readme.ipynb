{
 "cells": [
  {
   "cell_type": "code",
   "execution_count": null,
   "metadata": {
    "collapsed": true
   },
   "outputs": [],
   "source": [
    "# code 1.1\n",
    "import nbformat\n",
    "import markdownify\n",
    "import requests"
   ]
  },
  {
   "cell_type": "code",
   "execution_count": 1,
   "outputs": [],
   "source": [
    "# code 2.0\n",
    "\n",
    "from MergeGoogleDocWithIpynb.GenerateIpynb import GenerateIpynb\n",
    "from MergeGoogleDocWithIpynb.CodeResourceContainer import CodeResourceContainer\n",
    "from MergeGoogleDocWithIpynb.MdResourceContainer import MdResourceContainer\n",
    "\n",
    "\n",
    "googelDocUrl = 'https://docs.google.com/document/d/1HOZvyLZb4mEU5tCygu9d6kx5vT4hsdRgrgWRWyu2B1c/edit?usp=sharing'\n",
    "githubRawLinkForCode = \"https://raw.githubusercontent.com/gwubc/MergeGoogleDocWithIpynb/master/code_for_readme.ipynb\"\n",
    "outPath = \"./README.ipynb\"\n",
    "\n",
    "mdResourceContainer = MdResourceContainer()\n",
    "mdResourceContainer.addFromGoogleDocLink(googelDocUrl)\n",
    "\n",
    "codeResourceContainer = CodeResourceContainer()\n",
    "codeResourceContainer.codeBlockRemoveCellId = False\n",
    "codeResourceContainer.addFromGithubRawLink(githubRawLinkForCode)\n",
    "\n",
    "d = GenerateIpynb(mdResourceContainer, codeResourceContainer)\n",
    "\n",
    "out = d.generate(outPath)"
   ],
   "metadata": {
    "collapsed": false
   }
  },
  {
   "cell_type": "code",
   "execution_count": null,
   "outputs": [],
   "source": [],
   "metadata": {
    "collapsed": false
   }
  },
  {
   "cell_type": "code",
   "execution_count": null,
   "outputs": [],
   "source": [
    "# code 3.1\n",
    "mdResourceContainer = MdResourceContainer()\n",
    "mdResourceContainer.addFromLocalHtml(\"path/to/html\")"
   ],
   "metadata": {
    "collapsed": false
   }
  },
  {
   "cell_type": "code",
   "execution_count": null,
   "outputs": [],
   "source": [
    "# code 3.2\n",
    "codeResourceContainer = CodeResourceContainer()\n",
    "codeResourceContainer.addCodeFromJupyterPath(\"path/to/notebook.ipynb\")"
   ],
   "metadata": {
    "collapsed": false
   }
  },
  {
   "cell_type": "code",
   "execution_count": null,
   "outputs": [],
   "source": [
    "# code 3.3\n",
    "codeResourceContainer = CodeResourceContainer()\n",
    "codeResourceContainer.addFromGithubRawLink(\"githubRawLinkForCodeIpynbFile\")"
   ],
   "metadata": {
    "collapsed": false
   }
  },
  {
   "cell_type": "code",
   "execution_count": null,
   "outputs": [],
   "source": [
    "# code 3.4\n",
    "mdResource = MdResourceContainer()\n",
    "mdResource.addMdText(\"##some md text\")\n",
    "mdResource.addFromGithubRawMd(\"##some md text\")"
   ],
   "metadata": {
    "collapsed": false
   }
  },
  {
   "cell_type": "code",
   "execution_count": null,
   "outputs": [],
   "source": [
    "# code 3.5\n",
    "codeResourceContainer = CodeResourceContainer()\n",
    "codeResourceContainer.addFromLocalJupyterPath(\"path\")\n",
    "codeResourceContainer.addFromGithubRawLink(\"githubRawLinkForCodeIpynbFile\")\n"
   ],
   "metadata": {
    "collapsed": false
   }
  },
  {
   "cell_type": "code",
   "execution_count": null,
   "outputs": [],
   "source": [],
   "metadata": {
    "collapsed": false
   }
  },
  {
   "cell_type": "code",
   "execution_count": null,
   "outputs": [],
   "source": [],
   "metadata": {
    "collapsed": false
   }
  },
  {
   "cell_type": "code",
   "execution_count": null,
   "outputs": [],
   "source": [],
   "metadata": {
    "collapsed": false
   }
  }
 ],
 "metadata": {
  "kernelspec": {
   "display_name": "Python 3",
   "language": "python",
   "name": "python3"
  },
  "language_info": {
   "codemirror_mode": {
    "name": "ipython",
    "version": 2
   },
   "file_extension": ".py",
   "mimetype": "text/x-python",
   "name": "python",
   "nbconvert_exporter": "python",
   "pygments_lexer": "ipython2",
   "version": "2.7.6"
  }
 },
 "nbformat": 4,
 "nbformat_minor": 0
}
