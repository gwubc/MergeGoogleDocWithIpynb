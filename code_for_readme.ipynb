{
 "cells": [
  {
   "cell_type": "code",
   "execution_count": null,
   "metadata": {
    "collapsed": true
   },
   "outputs": [],
   "source": [
    "# code 1.1\n",
    "import nbformat\n",
    "import markdownify\n",
    "import requests"
   ]
  },
  {
   "cell_type": "code",
   "execution_count": 1,
   "outputs": [],
   "source": [
    "# code 2.0\n",
    "from MergeGoogleDocWithIpynb.MergeToIpynb import MergeToIpynb\n",
    "from MergeGoogleDocWithIpynb.CodeResourceContainer import CodeResourceContainer\n",
    "from MergeGoogleDocWithIpynb.MdResourceContainer import MdResourceContainer\n",
    "from MergeGoogleDocWithIpynb.ResourceCollector import ResourceCollector, ResourceType\n",
    "\n",
    "\n",
    "googelDocUrl = 'https://docs.google.com/document/d/1HOZvyLZb4mEU5tCygu9d6kx5vT4hsdRgrgWRWyu2B1c/edit?usp=sharing'\n",
    "githubRawLinkForCode = \"https://raw.githubusercontent.com/gwubc/MergeGoogleDocWithIpynb/master/code_for_readme.ipynb\"\n",
    "outPath = \"./README.ipynb\"\n",
    "\n",
    "mdResourceCollector = ResourceCollector(ResourceType.GOOGLEDOC)\n",
    "mdResourceCollector.collectFromRemoteFile(googelDocUrl)\n",
    "\n",
    "mdResourceContainer = MdResourceContainer()\n",
    "mdResourceContainer.add(mdResourceCollector.exportToMd())\n",
    "\n",
    "codeResourceCollector = ResourceCollector(ResourceType.IPYNB)\n",
    "codeResourceCollector.collectFromRemoteFile(githubRawLinkForCode)\n",
    "\n",
    "codeResourceContainer = CodeResourceContainer()\n",
    "codeResourceContainer.codeBlockRemoveCellId = True\n",
    "codeResourceContainer.add(codeResourceCollector.exportToIpynb())\n",
    "\n",
    "mergeToIpynb = MergeToIpynb(mdResourceContainer, codeResourceContainer)\n",
    "\n",
    "out = mergeToIpynb.generate(outPath)"
   ],
   "metadata": {
    "collapsed": false
   }
  },
  {
   "cell_type": "code",
   "execution_count": null,
   "outputs": [],
   "source": [],
   "metadata": {
    "collapsed": false
   }
  },
  {
   "cell_type": "code",
   "execution_count": null,
   "outputs": [],
   "source": [
    "# code 3.1\n",
    "mdResourceCollector = ResourceCollector(ResourceType.HTML)\n",
    "mdResourceCollector.collectFromLocalFile(\"path/to/html\")\n",
    "\n",
    "mdResourceContainer = MdResourceContainer()\n",
    "mdResourceContainer.add(mdResourceCollector.exportToMd())"
   ],
   "metadata": {
    "collapsed": false
   }
  },
  {
   "cell_type": "code",
   "execution_count": null,
   "outputs": [],
   "source": [
    "# code 3.2\n",
    "codeResourceCollector = ResourceCollector(ResourceType.IPYNB)\n",
    "codeResourceCollector.collectFromLocalFile(\"path/to/local/notebook.ipynb\")\n",
    "\n",
    "codeResourceContainer = CodeResourceContainer()\n",
    "codeResourceContainer.add(codeResourceCollector.exportToIpynb())"
   ],
   "metadata": {
    "collapsed": false
   }
  },
  {
   "cell_type": "code",
   "execution_count": null,
   "outputs": [],
   "source": [
    "# code 3.3\n",
    "codeResourceCollector = ResourceCollector(ResourceType.IPYNB)\n",
    "codeResourceCollector.collectFromRemoteFile(\"url/to/remote/notebook.ipynb\")\n",
    "\n",
    "codeResourceContainer = CodeResourceContainer()\n",
    "codeResourceContainer.add(codeResourceCollector.exportToIpynb())"
   ],
   "metadata": {
    "collapsed": false
   }
  },
  {
   "cell_type": "code",
   "execution_count": null,
   "outputs": [],
   "source": [
    "# code 3.4\n",
    "mdResourceContainer = MdResourceContainer()\n",
    "mdResourceContainer.add(\"## some md text\")\n",
    "mdResourceContainer.add(\"## more md text\")"
   ],
   "metadata": {
    "collapsed": false
   }
  },
  {
   "cell_type": "code",
   "execution_count": null,
   "outputs": [],
   "source": [
    "# code 3.5\n",
    "codeResourceCollector1 = ResourceCollector(ResourceType.IPYNB)\n",
    "codeResourceCollector1.collectFromLocalFile(\"path/to/local/notebook.ipynb\")\n",
    "\n",
    "codeResourceCollector2 = ResourceCollector(ResourceType.IPYNB)\n",
    "codeResourceCollector2.collectFromLocalFile(\"path/to/remote/notebook.ipynb\")\n",
    "\n",
    "codeResourceContainer = CodeResourceContainer()\n",
    "codeResourceContainer.add(codeResourceCollector1.exportToIpynb())\n",
    "codeResourceContainer.add(codeResourceCollector2.exportToIpynb())\n"
   ],
   "metadata": {
    "collapsed": false
   }
  },
  {
   "cell_type": "code",
   "execution_count": null,
   "outputs": [],
   "source": [],
   "metadata": {
    "collapsed": false
   }
  },
  {
   "cell_type": "code",
   "execution_count": null,
   "outputs": [],
   "source": [],
   "metadata": {
    "collapsed": false
   }
  },
  {
   "cell_type": "code",
   "execution_count": null,
   "outputs": [],
   "source": [],
   "metadata": {
    "collapsed": false
   }
  }
 ],
 "metadata": {
  "kernelspec": {
   "display_name": "Python 3",
   "language": "python",
   "name": "python3"
  },
  "language_info": {
   "codemirror_mode": {
    "name": "ipython",
    "version": 2
   },
   "file_extension": ".py",
   "mimetype": "text/x-python",
   "name": "python",
   "nbconvert_exporter": "python",
   "pygments_lexer": "ipython2",
   "version": "2.7.6"
  }
 },
 "nbformat": 4,
 "nbformat_minor": 0
}
